{
 "cells": [
  {
   "cell_type": "markdown",
   "metadata": {},
   "source": [
    "# Homework 10\n",
    "\n",
    "## ASTR 5900, Fall 2017, University of Oklahoma\n",
    "\n",
    "### Regression"
   ]
  },
  {
   "cell_type": "markdown",
   "metadata": {},
   "source": [
    "# Problem 1\n",
    "\n",
    "Here we will be performing linear regression using Gaussian basis functions, then applying regularization.\n",
    "\n",
    "### Part A\n",
    "\n",
    "Load the data from the appropriately named `regresssion/hw10-1.dat`.  The data points have homoscedastic errors ($\\sigma = 1.8$). Fit 50 Gaussians to the data using an `sklearn.linear_model.LinearRegression` object.  Evenly space the centers between 0 and 20.  Give each of the Gaussians a width of 0.6.\n",
    "\n",
    "Note these objects from `linear_model` perform line fits, fitting x to y.  To use a Gaussian basis as described above, we must fit Gauss(x) to y.\n"
   ]
  },
  {
   "cell_type": "code",
   "execution_count": null,
   "metadata": {
    "collapsed": true
   },
   "outputs": [],
   "source": []
  },
  {
   "cell_type": "markdown",
   "metadata": {},
   "source": [
    "### Part B\n",
    "\n",
    "Now perform ridge regression using `sklearn.linear_model.Ridge` with the same Gaussian model.  \n",
    "\n",
    "Plot the Gaussian coefficients as a function of the regularization parameter.\n",
    "\n",
    "Then plot the variance (given by the regular error function) and bias (given by the sum of squares of the coefficients) as a function of the regularization parameter.  Use appropriate labels."
   ]
  },
  {
   "cell_type": "code",
   "execution_count": null,
   "metadata": {
    "collapsed": true
   },
   "outputs": [],
   "source": []
  },
  {
   "cell_type": "markdown",
   "metadata": {},
   "source": [
    "### Part C\n",
    "\n",
    "Determine an optimal regularization parameter by minimizing the cross-validation error.\n",
    "\n",
    "You may split the data into 5 subsets.  One set will be used to test your models.  Use the other 4 to train your models one at a time.  Consider using an error function like Ivesic 8.39."
   ]
  },
  {
   "cell_type": "code",
   "execution_count": null,
   "metadata": {
    "collapsed": true
   },
   "outputs": [],
   "source": []
  },
  {
   "cell_type": "markdown",
   "metadata": {},
   "source": [
    "# Problem 2\n",
    "\n",
    "You are to use `linmix`, an MC code that fits a line to data with errors in the y AND x directions.\n",
    "\n",
    "### Part A\n",
    "\n",
    "Faced with data that have uncertainties on both X and Y, and some upper limits, you may be tempted to fit only the detections (ignoring the upper limits) and only the yerror, since that can be done easily with polyfit.  Do that, and record the slope and intercept that you obtain.\n",
    "\n",
    "Import the data from `regression/linmix.dat`.  Notice this file contains x and y values with their respective errors, along with numbers indicating detected points (1) vs nondetected (0).\n",
    "\n",
    "Fit a line to the detected data with `numpy.polyfit` using the y-errors.  Print the slope and intercept, and plot the line fit over the detected points."
   ]
  },
  {
   "cell_type": "code",
   "execution_count": null,
   "metadata": {
    "collapsed": true
   },
   "outputs": [],
   "source": []
  },
  {
   "cell_type": "markdown",
   "metadata": {},
   "source": [
    "### Part B\n",
    "\n",
    "Using linmix, you can fit data with uncertainties on both X and Y.  You may be tempted to do that, and still ignore the upper limits. Do that, and record the median slope and intercept that  you obtain.  Also plot a histogram of the slope and intercept values, as well as plotting the best fitting line on a scatter plot of the data."
   ]
  },
  {
   "cell_type": "code",
   "execution_count": null,
   "metadata": {
    "collapsed": true
   },
   "outputs": [],
   "source": []
  },
  {
   "cell_type": "markdown",
   "metadata": {},
   "source": [
    "### Part C\n",
    "\n",
    "Now include the upper limits, and use linmix to obtain the slope and intercepts again.  Make appropriate plots.  How does the best fitting slope compare with the one that you obtained in Part B?"
   ]
  },
  {
   "cell_type": "code",
   "execution_count": null,
   "metadata": {
    "collapsed": true
   },
   "outputs": [],
   "source": []
  },
  {
   "cell_type": "markdown",
   "metadata": {},
   "source": [
    "# Problem Z\n",
    "\n",
    "Comment on the amount of time it took you to complete this assignment."
   ]
  },
  {
   "cell_type": "code",
   "execution_count": null,
   "metadata": {
    "collapsed": true
   },
   "outputs": [],
   "source": []
  }
 ],
 "metadata": {
  "kernelspec": {
   "display_name": "Python 3",
   "language": "python",
   "name": "python3"
  },
  "language_info": {
   "codemirror_mode": {
    "name": "ipython",
    "version": 3
   },
   "file_extension": ".py",
   "mimetype": "text/x-python",
   "name": "python",
   "nbconvert_exporter": "python",
   "pygments_lexer": "ipython3",
   "version": "3.5.2"
  }
 },
 "nbformat": 4,
 "nbformat_minor": 2
}
