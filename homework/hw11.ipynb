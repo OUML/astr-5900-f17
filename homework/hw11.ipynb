{
 "cells": [
  {
   "cell_type": "markdown",
   "metadata": {},
   "source": [
    "# Homework 11\n",
    "\n",
    "## ASTR 5900, Fall 2017, University of Oklahoma\n",
    "\n",
    "### More Regression"
   ]
  },
  {
   "cell_type": "markdown",
   "metadata": {},
   "source": [
    "# Problem 1\n",
    "\n",
    "Polymer dielectrics have many applications such as in organic photovoltaics and wearable electronics.  One property that a polymer should have as a dielectric is a high bandgap energy.  There are two compounding difficulties in searching for polymer candidates for these technologies: the volume of chemical space is vast and the evaluation of material properties via *ab initio* methods are computationally expensive.  However it is possible to build a model to  predict the properties of polymers using regression, a supervised learning method.\n",
    "\n",
    "In this problem we will perform regression on the bandgap energy of certain polymers.  The data is located in `polymers.csv`.  Featured are 284 unique 4-block materials composed of 7 different molecular building blocks: $CH_2$, $NH$, $CO$, $C_6 H_4$, $C_4 H_2 S$, $CS$, and $O$.  The polymers are understood to repeat indefinitely.\n",
    "\n",
    "### Part A\n",
    "\n",
    "The choice of how data is represented is an important part of machine learning.  One such representation of our molecule data is the $M_{II}$ fingerprint, which is a normalized count of the number of different types of pairs of building blocks in a polyer.  The representation is therefore a $7 \\times 7$ matrix with these specifications:\n",
    "\n",
    "1. The sum of all elements in the matrix should be equal to 4 (since we are dealing with 4-block materials) $$ \\sum^7_{i,j} M_{ij} = 4$$\n",
    "2. The sum of elemnents in any row or column of $M$ should be equal to the total number of blocks of that kind in the polymer.\n",
    "3. The period symmetry in the polymer dictates that $M$ is a symmetric matrix.  In other words, polymers have the same bandgap energy if they are mirrored.\n",
    "4. The diagonal elements of $M$ are integers.\n",
    "\n",
    "Transform the data from `polymers.csv` so that each molecule is represented in the $M_{II}$ fingerprint."
   ]
  },
  {
   "cell_type": "code",
   "execution_count": null,
   "metadata": {
    "collapsed": true
   },
   "outputs": [],
   "source": []
  },
  {
   "cell_type": "markdown",
   "metadata": {},
   "source": [
    "### Part B\n",
    "\n",
    "Perform Kernel Ridge Regression on the data using `sklearn.kernel_ridge.KernelRidge`.  Use a Gaussian kernel with a width ($\\sigma$) of 25.  Use an alpha parameter of $10^{-5}$.\n",
    "\n",
    "You must define your own Gaussian kernel that goes like $$ k(\\vec{x}, \\vec{v}) = \\exp\\left( -\\frac{1}{2\\sigma^2} || \\vec{x} - \\vec{v}||^2\\right)$$\n",
    "Read this link on `KernelRidge` objects to understand how to implement it: http://scikit-learn.org/stable/modules/generated/sklearn.kernel_ridge.KernelRidge.html#sklearn.kernel_ridge.KernelRidge\n",
    "\n",
    "Use the first 200 data points to train your model, then the remaining 84 to test it.  Calculate the standard error of the test set.  Plot the model values of the data points against their target values, and color each point according to its membership in the test or training set.  Use appropriate labels.\n"
   ]
  },
  {
   "cell_type": "code",
   "execution_count": null,
   "metadata": {
    "collapsed": true
   },
   "outputs": [],
   "source": []
  },
  {
   "cell_type": "markdown",
   "metadata": {},
   "source": [
    "# Problem 2\n",
    "\n",
    "Now we will be performing Gaussian Process Regression on the same polymer data from Problem 1.\n",
    "\n",
    "Use an `sklearn.model_selection.GridSearchCV` object to optimize the hyperparameters of an `sklearn.gaussian_process.GaussianProcessRegressor` object applied to the polymer data.  Use the same split as before to train, then test the model.  Plot the model and true results as in Problem 1, and determine the error.  Comment on your results and compare to Problem 1.\n",
    "\n",
    "There are examples on the sci-kit learn website on how to use `GridSearchCV`, however they are applied to other models such as `KernelRidge`.  The concept is the same, so you should be able to figure out how to use them for our GP objects.  One such example is here: http://scikit-learn.org/stable/auto_examples/gaussian_process/plot_compare_gpr_krr.html#sphx-glr-auto-examples-gaussian-process-plot-compare-gpr-krr-py"
   ]
  },
  {
   "cell_type": "code",
   "execution_count": null,
   "metadata": {
    "collapsed": true
   },
   "outputs": [],
   "source": []
  },
  {
   "cell_type": "markdown",
   "metadata": {},
   "source": [
    "# Problem Z\n",
    "\n",
    "Comment on the amount of time this assignment required."
   ]
  },
  {
   "cell_type": "code",
   "execution_count": null,
   "metadata": {
    "collapsed": true
   },
   "outputs": [],
   "source": []
  }
 ],
 "metadata": {
  "kernelspec": {
   "display_name": "Python 3",
   "language": "python",
   "name": "python3"
  },
  "language_info": {
   "codemirror_mode": {
    "name": "ipython",
    "version": 3
   },
   "file_extension": ".py",
   "mimetype": "text/x-python",
   "name": "python",
   "nbconvert_exporter": "python",
   "pygments_lexer": "ipython3",
   "version": "3.5.2"
  }
 },
 "nbformat": 4,
 "nbformat_minor": 2
}
