{
 "cells": [
  {
   "cell_type": "markdown",
   "metadata": {},
   "source": [
    "# Homework 12\n",
    "\n",
    "## ASTR 5900, Fall 2017, University of Oklahoma\n",
    "\n",
    "### Neural Networks"
   ]
  },
  {
   "cell_type": "markdown",
   "metadata": {},
   "source": [
    "# Problem 1\n",
    "\n",
    "Imagine a neural network that has already been trained to classify configurations of classical spins in a lattice as 1 of 2 magnetic phases: ferromagnetic or paramagnetic.  A training set was generated using Monte Carlo at a range of temperatures, and the target classifications were determined based on their temperatures relative to the known critical temperature for the 2D ferromagnetic Ising model with Hamiltonian $$ H = -J\\sum_{\\langle i,j \\rangle} \\sigma^z_i \\sigma^z_j $$\n",
    "where $\\sigma^z_k = \\{-1, 1 \\}$ is the spin at site $k$ and the summation is over adjacent spin sites (sites that share an edge).  This Hamiltonian says there is energy stored between adjacent sites with opposite spins.  Because of this, at low temperatures the spins generally point in a single direction (either up or down).  As the temperature increases and crosses the critical temperature $T_C$, this aggregate behavior suddenly fades and the Ising system becomes disordered with an average magnetization of zero.  This happens because at higher temperatures the lattice is more likely to reach configurations with high energy (ie those with opposing spins next to each other).\n",
    "\n",
    "\n",
    "### Part A\n",
    "\n",
    "In this problem we want to locate the critical temperature of the Ising model.  To do this we will study the output of the trained neural net mentioned in the above prompt from a series of samples that we will generate at various temperatures.\n",
    "\n",
    "In this problem we will study square lattices of size $10 \\times 10$ with periodic boundary conditions.\n",
    "\n",
    "Write 3 python functions that will be used to create our spin samples.  The first function `energy` should take a spin configuration (an array of 1's and -1's) and the return its energy as determined from the Hamiltonian above.  The second is the `metropolis` function which takes a temperature as an argument and returns a set of spin configurations sampled at that temperature.  This must be performed using an Metropolis-Hastings algorithm, described below:\n",
    "\n",
    "1.  Initialize a uniform spin configuration $s$.\n",
    "2. Loop $n$ times\n",
    "    1. Generate a neighboring spin configuration $s'$ that's a 'neighbor' of $s$\n",
    "    2. Assign variable `a` = $\\text{min}(1, \\exp(\\frac{E_i - E_j}{T}))$ \n",
    "    3. With probability `a` accept state $s'$ and store it in your sample array.  If rejected, store $s$.\n",
    "3. Return the array of stored states\n",
    "\n",
    "The third function is `neighbor` and it returns a 'neighboring' state that is close to the input state.  It takes a state as an argument, makes a copy of it with `numpy.copy`, and flips the spin of 3 random sites in the copied state.  The altered state is then returned."
   ]
  },
  {
   "cell_type": "code",
   "execution_count": null,
   "metadata": {
    "collapsed": true
   },
   "outputs": [],
   "source": []
  },
  {
   "cell_type": "markdown",
   "metadata": {},
   "source": [
    "### Part B\n",
    "\n",
    "It's time to generate data with the functions we just defined and apply it to the trained neural net.  As you know, a standard feed forward neural network is a series of layers of connected neurons that fire (or fractionally fire) based on the linear sum of weights and inputs from their respective previous layer.\n",
    "\n",
    "The neural network in question has 3 layers: the 100 size input layer (because the input is an spin configuration on a $10 \\times 10$ lattice), a hidden layer with 3 perceptrons, and an output layer of 2 perceptrons.  The weights and biases of the first layer are:\n",
    "\n",
    "$$ W_1 = \\frac{1}{N(1 + \\epsilon)}\n",
    " \\begin{pmatrix}\n",
    "  1 & 1 & \\cdots & 1 \\\\\n",
    "  -1 & -1 & \\cdots & -1 \\\\\n",
    "  1 & 1 & \\cdots & 1\n",
    " \\end{pmatrix} \\; \\; \\text{and} \\; \\; b_1 = \\frac{\\epsilon}{1+\\epsilon} \\begin{pmatrix}\n",
    "  -1 \\\\\n",
    "  -1 \\\\\n",
    "  1\n",
    " \\end{pmatrix}$$\n",
    " \n",
    " This actually works out to be $$ Wx + b = \\frac{1}{1 + \\epsilon}\\begin{pmatrix}\n",
    "  m(x) - \\epsilon \\\\\n",
    "  -m(x) - \\epsilon \\\\\n",
    "  m(x) + \\epsilon\n",
    " \\end{pmatrix}$$\n",
    " \n",
    " where $m(x) = \\frac{1}{N}\\sum_i \\sigma^z_i$ is the total magnetization of configuration $x$.  $\\epsilon$ is a parameter ranging from 0 to 1 that determines how polarized the spins have to be to be classified a one of the ways.  Start with an $ \\epsilon $ of 0.3, but feel free to vary it and discuss its effect.  A heaviside step function is applied to each of these elements because they are Perceptrons.\n",
    " \n",
    "The output's weights and biases are:\n",
    "$$ W_2 = \n",
    " \\begin{pmatrix}\n",
    "  2 & 1 &  -1 \\\\\n",
    "      -2 & -2 & 1\n",
    " \\end{pmatrix} \\; \\; \\text{and} \\; \\; b_2 =\\begin{pmatrix}\n",
    "  0 \\\\\n",
    "    0\n",
    " \\end{pmatrix}$$\n",
    "\n",
    "The output features 2 neurons: one that fires if the input is in the cold, ferromagnetic state and the other if the input is in the warm, paramagnetic state.  Write a function `toy_model` that maps an Ising configuration to a vector of length 2 with these specifications.  This function will be the neural net, effectively.\n",
    "\n",
    "Sample 20 temperatures between 1 and 5 inclusive.  For each temperature, generate 10000 spin configurations with `metropolis`.  Determine the average of each output neuron, and plot the results as a function of temperature on the same figure.  The critical temperature is understood to be at the point in which the lines cross.  What is $T_C$?"
   ]
  },
  {
   "cell_type": "code",
   "execution_count": null,
   "metadata": {
    "collapsed": true
   },
   "outputs": [],
   "source": []
  },
  {
   "cell_type": "markdown",
   "metadata": {},
   "source": [
    "# Problem Z\n",
    "\n",
    "Comment on the amount of time this assignment required."
   ]
  },
  {
   "cell_type": "markdown",
   "metadata": {},
   "source": []
  }
 ],
 "metadata": {
  "kernelspec": {
   "display_name": "Python 3",
   "language": "python",
   "name": "python3"
  },
  "language_info": {
   "codemirror_mode": {
    "name": "ipython",
    "version": 3
   },
   "file_extension": ".py",
   "mimetype": "text/x-python",
   "name": "python",
   "nbconvert_exporter": "python",
   "pygments_lexer": "ipython3",
   "version": "3.5.2"
  }
 },
 "nbformat": 4,
 "nbformat_minor": 2
}
